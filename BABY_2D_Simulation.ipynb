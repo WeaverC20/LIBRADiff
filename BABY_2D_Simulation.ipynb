{
 "cells": [
  {
   "cell_type": "code",
   "execution_count": 1,
   "metadata": {},
   "outputs": [],
   "source": [
    "import fenics as f\n",
    "import matplotlib.pyplot as plt\n",
    "from models import velocity_field, t_transport_sim, mesh_2d, load_xdmf_mesh"
   ]
  },
  {
   "cell_type": "code",
   "execution_count": 2,
   "metadata": {},
   "outputs": [
    {
     "ename": "RuntimeError",
     "evalue": "\n\n*** -------------------------------------------------------------------------\n*** DOLFIN encountered an error. If you are not able to resolve this issue\n*** using the information listed below, you can ask for help at\n***\n***     fenics-support@googlegroups.com\n***\n*** Remember to include the error message listed below and, if possible,\n*** include a *minimal* running example to reproduce the error.\n***\n*** -------------------------------------------------------------------------\n*** Error:   Unable to open HDF5 file.\n*** Reason:  File \"ImportedMesh/mesh_domains.h5\" does not exist.\n*** Where:   This error was encountered inside HDF5Interface.cpp.\n*** Process: 0\n*** \n*** DOLFIN version: 2019.1.0\n*** Git changeset:  \n*** -------------------------------------------------------------------------\n",
     "output_type": "error",
     "traceback": [
      "\u001b[0;31m---------------------------------------------------------------------------\u001b[0m",
      "\u001b[0;31mRuntimeError\u001b[0m                              Traceback (most recent call last)",
      "Cell \u001b[0;32mIn[2], line 10\u001b[0m\n\u001b[1;32m      1\u001b[0m \u001b[38;5;28;01mif\u001b[39;00m \u001b[38;5;18m__name__\u001b[39m \u001b[38;5;241m==\u001b[39m \u001b[38;5;124m\"\u001b[39m\u001b[38;5;124m__main__\u001b[39m\u001b[38;5;124m\"\u001b[39m:\n\u001b[1;32m      2\u001b[0m     \u001b[38;5;66;03m# Generating mesh\u001b[39;00m\n\u001b[1;32m      3\u001b[0m     \u001b[38;5;66;03m# x1 = 0.00476\u001b[39;00m\n\u001b[0;32m   (...)\u001b[0m\n\u001b[1;32m      7\u001b[0m     \u001b[38;5;66;03m# resolution = 30\u001b[39;00m\n\u001b[1;32m      8\u001b[0m     \u001b[38;5;66;03m# mesh_fenics, surface_markers, left_id, top_id, right_id, bottom_id, upper_left_id, left_top_id = LMeshmshr(x1, x2, y1, y2, resolution)\u001b[39;00m\n\u001b[0;32m---> 10\u001b[0m     mesh_fenics, volume_markers, surface_markers, correspondance_dict \u001b[38;5;241m=\u001b[39m \u001b[43mload_xdmf_mesh\u001b[49m\u001b[43m(\u001b[49m\u001b[38;5;124;43m\"\u001b[39;49m\u001b[38;5;124;43mImportedMesh/\u001b[39;49m\u001b[38;5;124;43m\"\u001b[39;49m\u001b[43m)\u001b[49m\n\u001b[1;32m     12\u001b[0m     T_hot \u001b[38;5;241m=\u001b[39m \u001b[38;5;241m700\u001b[39m \u001b[38;5;241m+\u001b[39m \u001b[38;5;241m273.15\u001b[39m\n\u001b[1;32m     13\u001b[0m     dt_array \u001b[38;5;241m=\u001b[39m [\u001b[38;5;241m0\u001b[39m, \u001b[38;5;241m0.1\u001b[39m, \u001b[38;5;241m0.2\u001b[39m, \u001b[38;5;241m0.4\u001b[39m, \u001b[38;5;241m0.8\u001b[39m, \u001b[38;5;241m2\u001b[39m, \u001b[38;5;241m3.5\u001b[39m, \u001b[38;5;241m10\u001b[39m]\n",
      "File \u001b[0;32m~/Documents/LIBRA/FESTIM/FESTIM-workshop/LIBRADiff/models.py:98\u001b[0m, in \u001b[0;36mload_xdmf_mesh\u001b[0;34m(folder_name)\u001b[0m\n\u001b[1;32m     94\u001b[0m y2 \u001b[38;5;241m=\u001b[39m \u001b[38;5;241m0.0761\u001b[39m\n\u001b[1;32m     96\u001b[0m \u001b[38;5;66;03m# input_dict = {-6: ['fluid'], -7: ['top'], -8: ['bottom'], -9: ['right'], -10: ['left'], -11: ['top_heel'], -12: ['left_heel']}\u001b[39;00m\n\u001b[0;32m---> 98\u001b[0m mesh_fenics \u001b[38;5;241m=\u001b[39m \u001b[43mF\u001b[49m\u001b[38;5;241;43m.\u001b[39;49m\u001b[43mMeshFromXDMF\u001b[49m\u001b[43m(\u001b[49m\u001b[43mvolume_file\u001b[49m\u001b[38;5;241;43m=\u001b[39;49m\u001b[38;5;28;43mstr\u001b[39;49m\u001b[43m(\u001b[49m\u001b[38;5;124;43mf\u001b[39;49m\u001b[38;5;124;43m\"\u001b[39;49m\u001b[38;5;132;43;01m{\u001b[39;49;00m\u001b[43mfolder_name\u001b[49m\u001b[38;5;132;43;01m}\u001b[39;49;00m\u001b[38;5;124;43mmesh_domains.xdmf\u001b[39;49m\u001b[38;5;124;43m\"\u001b[39;49m\u001b[43m)\u001b[49m\u001b[43m,\u001b[49m\u001b[43m \u001b[49m\u001b[43mboundary_file\u001b[49m\u001b[38;5;241;43m=\u001b[39;49m\u001b[38;5;124;43mf\u001b[39;49m\u001b[38;5;124;43m\"\u001b[39;49m\u001b[38;5;132;43;01m{\u001b[39;49;00m\u001b[43mfolder_name\u001b[49m\u001b[38;5;132;43;01m}\u001b[39;49;00m\u001b[38;5;124;43mmesh_boundaries.xdmf\u001b[39;49m\u001b[38;5;124;43m\"\u001b[39;49m\u001b[43m)\u001b[49m\n\u001b[1;32m    100\u001b[0m f\u001b[38;5;241m.\u001b[39mplot(mesh_fenics)\n\u001b[1;32m    102\u001b[0m \u001b[38;5;66;03m# marking physical groups (volumes and surfaces)\u001b[39;00m\n",
      "File \u001b[0;32m~/anaconda3/envs/festim-env/lib/python3.11/site-packages/festim/meshing/mesh_from_xdmf.py:26\u001b[0m, in \u001b[0;36mMeshFromXDMF.__init__\u001b[0;34m(self, volume_file, boundary_file, **kwargs)\u001b[0m\n\u001b[1;32m     23\u001b[0m \u001b[38;5;28mself\u001b[39m\u001b[38;5;241m.\u001b[39mboundary_file \u001b[38;5;241m=\u001b[39m boundary_file\n\u001b[1;32m     25\u001b[0m \u001b[38;5;28mself\u001b[39m\u001b[38;5;241m.\u001b[39mmesh \u001b[38;5;241m=\u001b[39m f\u001b[38;5;241m.\u001b[39mMesh()\n\u001b[0;32m---> 26\u001b[0m \u001b[43mf\u001b[49m\u001b[38;5;241;43m.\u001b[39;49m\u001b[43mXDMFFile\u001b[49m\u001b[43m(\u001b[49m\u001b[38;5;28;43mself\u001b[39;49m\u001b[38;5;241;43m.\u001b[39;49m\u001b[43mvolume_file\u001b[49m\u001b[43m)\u001b[49m\u001b[38;5;241;43m.\u001b[39;49m\u001b[43mread\u001b[49m\u001b[43m(\u001b[49m\u001b[38;5;28;43mself\u001b[39;49m\u001b[38;5;241;43m.\u001b[39;49m\u001b[43mmesh\u001b[49m\u001b[43m)\u001b[49m\n\u001b[1;32m     28\u001b[0m \u001b[38;5;28mself\u001b[39m\u001b[38;5;241m.\u001b[39mdefine_markers()\n",
      "\u001b[0;31mRuntimeError\u001b[0m: \n\n*** -------------------------------------------------------------------------\n*** DOLFIN encountered an error. If you are not able to resolve this issue\n*** using the information listed below, you can ask for help at\n***\n***     fenics-support@googlegroups.com\n***\n*** Remember to include the error message listed below and, if possible,\n*** include a *minimal* running example to reproduce the error.\n***\n*** -------------------------------------------------------------------------\n*** Error:   Unable to open HDF5 file.\n*** Reason:  File \"ImportedMesh/mesh_domains.h5\" does not exist.\n*** Where:   This error was encountered inside HDF5Interface.cpp.\n*** Process: 0\n*** \n*** DOLFIN version: 2019.1.0\n*** Git changeset:  \n*** -------------------------------------------------------------------------\n"
     ]
    }
   ],
   "source": [
    "if __name__ == \"__main__\":\n",
    "    # Generating mesh\n",
    "    # x1 = 0.00476\n",
    "    # x2 = 0.0162\n",
    "    # y1 = 0.01\n",
    "    # y2 = 0.0761\n",
    "    # resolution = 30\n",
    "    # mesh_fenics, surface_markers, left_id, top_id, right_id, bottom_id, upper_left_id, left_top_id = LMeshmshr(x1, x2, y1, y2, resolution)\n",
    "\n",
    "    mesh_fenics, volume_markers, surface_markers, correspondance_dict = load_xdmf_mesh(\"ImportedMesh/\")\n",
    "\n",
    "    T_hot = 700 + 273.15\n",
    "    dt_array = [0, 0.1, 0.2, 0.4, 0.8, 2, 3.5, 10]\n",
    "    k_array = []\n",
    "    c_array = []\n",
    "    f_array = []\n",
    "    for dT in dt_array:\n",
    "        print(f\"----------  Running for dT={dT} K  ----------\")\n",
    "        foldername = f\"Results/dt={dT}/\"\n",
    "        T_cold = T_hot - dT\n",
    "        u, p, T = velocity_field(\n",
    "            T_cold=T_cold,\n",
    "            T_hot=T_hot,\n",
    "            my_mesh=mesh_fenics,\n",
    "            surface_markers=surface_markers,\n",
    "            correspondance_dict=correspondance_dict,\n",
    "        )\n",
    "\n",
    "        f.XDMFFile(foldername + \"temperature_field.xdmf\").write_checkpoint(\n",
    "            T, \"temperature\", 1, f.XDMFFile.Encoding.HDF5\n",
    "        )\n",
    "        f.XDMFFile(foldername + \"velocity_field.xdmf\").write(u)\n",
    "\n",
    "        plt.figure()\n",
    "        plt.title(\"Velocity field\")\n",
    "        CS = f.plot(u, scale=1e-3)\n",
    "        plt.colorbar(CS, label=\"m/s\")\n",
    "        plt.axis(\"off\")\n",
    "        plt.show()\n",
    "\n",
    "        plt.figure()\n",
    "        TS = f.plot(T, cmap=\"inferno\")\n",
    "        plt.colorbar(TS, label=\"K\")\n",
    "        plt.show()\n",
    "\n",
    "        k = t_transport_sim(\n",
    "            T,\n",
    "            mesh_fenics,\n",
    "            u,\n",
    "            volume_markers=volume_markers,\n",
    "            surface_markers=surface_markers,\n",
    "            correspondance_dict=correspondance_dict,\n",
    "        )\n",
    "        print(k)\n",
    "        k_array.append(k[0])\n",
    "        c_array.append(k[1])\n",
    "        f_array.append(k[2])\n",
    "\n",
    "    plt.figure()\n",
    "    plt.plot(dt_array, k_array, \"-x\", linewidth=3)\n",
    "    plt.xlabel(\"Temperature difference [K]\")\n",
    "    plt.ylabel(\"Transport Coefficient [m/s]\")\n",
    "\n",
    "    plt.figure()\n",
    "    plt.plot(dt_array, c_array, \"-x\", linewidth=3)\n",
    "    plt.xlabel(\"Temperature difference [K]\")\n",
    "    plt.ylabel(\"Average Concentration\")\n",
    "\n",
    "    plt.figure()\n",
    "    plt.plot(dt_array, f_array, \"-x\", linewidth=3)\n",
    "    plt.xlabel(\"Temperature difference [K]\")\n",
    "    plt.ylabel(\"Flux\")\n",
    "\n",
    "    # xdmf_file = XDMFFile(\"mesh_fencis.xdmf\")\n",
    "    # xdmf_file.write(mesh_fenics)\n",
    "    # xdmf_file.close()"
   ]
  }
 ],
 "metadata": {
  "kernelspec": {
   "display_name": "Python 3.9.12 ('base')",
   "language": "python",
   "name": "python3"
  },
  "language_info": {
   "codemirror_mode": {
    "name": "ipython",
    "version": 3
   },
   "file_extension": ".py",
   "mimetype": "text/x-python",
   "name": "python",
   "nbconvert_exporter": "python",
   "pygments_lexer": "ipython3",
   "version": "3.11.6"
  },
  "orig_nbformat": 4,
  "vscode": {
   "interpreter": {
    "hash": "d4d1e4263499bec80672ea0156c357c1ee493ec2b1c70f0acce89fc37c4a6abe"
   }
  }
 },
 "nbformat": 4,
 "nbformat_minor": 2
}
