{
 "cells": [
  {
   "cell_type": "code",
   "execution_count": 23,
   "metadata": {},
   "outputs": [],
   "source": [
    "import festim as F\n",
    "import numpy as np\n",
    "import matplotlib.pyplot as plt"
   ]
  },
  {
   "attachments": {},
   "cell_type": "markdown",
   "metadata": {},
   "source": [
    "Creating 2D mesh with FEniCS and mark its subdomains"
   ]
  },
  {
   "cell_type": "code",
   "execution_count": 24,
   "metadata": {},
   "outputs": [
    {
     "data": {
      "image/png": "[encoded data removed]",
      "text/plain": [
       "<Figure size 640x480 with 1 Axes>"
      ]
     },
     "metadata": {},
     "output_type": "display_data"
    }
   ],
   "source": [
    "from fenics import Point, RectangleMesh, CompiledSubDomain, MeshFunction, plot\n",
    "\n",
    "# creating a mesh with FEniCS\n",
    "nx = ny = 10\n",
    "# mesh_fenics = UnitSquareMesh(nx, ny)\n",
    "\n",
    "mesh_fenics = RectangleMesh(Point(0.0, 0.0), Point(0.1, 0.1), nx, ny)\n",
    "\n",
    "# marking physical groups (volumes and surfaces)\n",
    "volume_markers = MeshFunction(\n",
    "    \"size_t\", mesh_fenics, mesh_fenics.topology().dim())\n",
    "volume_markers.set_all(1)\n",
    "\n",
    "left_surface = CompiledSubDomain(\n",
    "    'on_boundary && near(x[0], 0, tol)', tol=1e-14)\n",
    "right_surface = CompiledSubDomain(\n",
    "    'on_boundary && near(x[0], 0.1, tol)', tol=1e-14)\n",
    "bottom_surface = CompiledSubDomain(\n",
    "    'on_boundary && near(x[1], 0, tol)', tol=1e-14)\n",
    "top_surface = CompiledSubDomain(\n",
    "    'on_boundary && near(x[1], 0.1, tol)', tol=1e-14)\n",
    "\n",
    "surface_markers = MeshFunction(\n",
    "    \"size_t\", mesh_fenics, mesh_fenics.topology().dim() - 1)\n",
    "surface_markers.set_all(0)\n",
    "\n",
    "# Surface ids\n",
    "left_id = 1\n",
    "top_id = 2\n",
    "right_id = 3\n",
    "bottom_id = 4\n",
    "left_surface.mark(surface_markers, left_id)\n",
    "right_surface.mark(surface_markers, right_id)\n",
    "top_surface.mark(surface_markers, top_id)\n",
    "bottom_surface.mark(surface_markers, bottom_id)\n",
    "\n",
    "plot(mesh_fenics)\n"
   ]
  },
  {
   "cell_type": "markdown",
   "metadata": {},
   "source": [
    "Helper Functions"
   ]
  },
  {
   "cell_type": "code",
   "execution_count": null,
   "metadata": {},
   "outputs": [],
   "source": [
    "def read_results(export_path):\n",
    "    \"\"\"\n",
    "    Takes in the path to the export file and returns the \n",
    "    \"\"\""
   ]
  },
  {
   "cell_type": "code",
   "execution_count": 25,
   "metadata": {},
   "outputs": [],
   "source": [
    "def my_simulation(T_array, mesh_fenics):\n",
    "    \"\"\"\n",
    "    Takes in a list of temperatures and a set mesh and returns a list of diffusion coefficients that correspond to each temperature\n",
    "    \"\"\"\n",
    "    k_array = []\n",
    "    for i in range(len(T_array)):\n",
    "        # setting up current simulation\n",
    "        model_2d = F.Simulation()\n",
    "\n",
    "        # D, E_d source: \"nakamura_hydrogen_2015\"\n",
    "        # Thermal cond source: https://dspace.mit.edu/bitstream/handle/1721.1/123988/Romatoski_SaltPropertyReview02.pdf?sequence=1&isAllowed=y#:~:text=From%20the%20data%20collected%2C%20the,an%20uncertainty%20of%20%C2%B110%25.\n",
    "        mat = F.Material(\n",
    "            id=1,\n",
    "            D_0=1.508521565198744e-08,\n",
    "            E_D=0.23690444592353738,\n",
    "            thermal_cond=1.1\n",
    "            )\n",
    "        model_2d.materials = F.Materials([mat])\n",
    "\n",
    "        # creating mesh with festim\n",
    "        model_2d.mesh = F.Mesh(\n",
    "            mesh=mesh_fenics,\n",
    "            volume_markers=volume_markers,\n",
    "            surface_markers=surface_markers\n",
    "        )\n",
    "\n",
    "        # setting up steady state heat transfer problem\n",
    "        model_2d.T = F.HeatTransferProblem(transient=False)\n",
    "\n",
    "        # dirichlet temperature boundary conditions\n",
    "        T = T_array[i]\n",
    "\n",
    "        heat_transfer_bcs = [\n",
    "            F.DirichletBC(\n",
    "                surfaces=[left_id],\n",
    "                value=T,\n",
    "                field=\"T\"\n",
    "            ),\n",
    "\n",
    "            F.DirichletBC(\n",
    "                surfaces=[right_id],\n",
    "                value=T,\n",
    "                field=\"T\"\n",
    "            ),\n",
    "        ]\n",
    "\n",
    "        # setting up T source\n",
    "        model_2d.sources = [\n",
    "            F.Source(\n",
    "                value=1,\n",
    "                volume=1,\n",
    "                field=0\n",
    "            )]\n",
    "        \n",
    "        # setting up tranpsport boundary conditions\n",
    "        tritium_transport_bcs = [\n",
    "            F.DirichletBC(\n",
    "                surfaces=[1, 2, 3, 4], \n",
    "                value=0, \n",
    "                field=0\n",
    "                )\n",
    "        ]\n",
    "\n",
    "        model_2d.boundary_conditions = heat_transfer_bcs + tritium_transport_bcs\n",
    "\n",
    "        # setting up exports\n",
    "        export_folder = \"BABY_2D_results\"\n",
    "\n",
    "        derived_quantities = F.DerivedQuantities(filename=export_folder + \"/simulation.csv\")\n",
    "\n",
    "        derived_quantities.derived_quantities = [\n",
    "            F.SurfaceFlux(field=\"solute\", surface=1),\n",
    "            F.SurfaceFlux(field=\"solute\", surface=2),\n",
    "            F.SurfaceFlux(field=\"solute\", surface=3),\n",
    "            F.SurfaceFlux(field=\"solute\", surface=4),\n",
    "            F.AverageVolume(field=\"solute\", volume=1)\n",
    "            ]\n",
    "\n",
    "        model_2d.exports = F.Exports([\n",
    "            F.XDMFExport(\"solute\", folder=export_folder),\n",
    "            F.XDMFExport(\"retention\", folder=export_folder),\n",
    "            F.XDMFExport(\"T\", folder=export_folder),\n",
    "            derived_quantities\n",
    "            ])\n",
    "        \n",
    "        # simulation parameters and running model\n",
    "        model_2d.settings = F.Settings(\n",
    "            transient=False,\n",
    "            absolute_tolerance=1e-09,\n",
    "            relative_tolerance=1e-09,\n",
    "        )\n",
    "\n",
    "        model_2d.initialise()\n",
    "        model_2d.run()\n",
    "        \n",
    "        # reading results\n",
    "        my_data = np.genfromtxt(export_folder + \"/simulation.csv\", names=True, delimiter=\",\")\n",
    "\n",
    "        flux_1 = my_data[\"Flux_surface_1_solute\"]\n",
    "        flux_2 = my_data[\"Flux_surface_2_solute\"]\n",
    "        flux_3 = my_data[\"Flux_surface_3_solute\"]\n",
    "        flux_4 = my_data[\"Flux_surface_4_solute\"]\n",
    "\n",
    "        # calculating diffusion coefficient\n",
    "        total_flux = abs(flux_1 + flux_2 + flux_3 + flux_4)\n",
    "\n",
    "        average_conc = my_data[\"Average_solute_volume_1\"]\n",
    "\n",
    "        A = 0.4\n",
    "\n",
    "        k = total_flux/(A*average_conc)\n",
    "\n",
    "        k_array.append(k)\n",
    "        \n",
    "\n",
    "    return k_array"
   ]
  },
  {
   "cell_type": "code",
   "execution_count": 26,
   "metadata": {},
   "outputs": [],
   "source": [
    "T_array = np.linspace(100, 1200, 12)"
   ]
  },
  {
   "cell_type": "code",
   "execution_count": 27,
   "metadata": {},
   "outputs": [
    {
     "name": "stdout",
     "output_type": "stream",
     "text": [
      "Defining variational problem heat transfers\n",
      "Solving stationary heat equation\n",
      "Defining initial values\n",
      "Defining variational problem\n",
      "Defining source terms\n",
      "Defining boundary conditions\n",
      "Solving steady state problem...\n",
      "Solved problem in 0.00 s\n",
      "Defining variational problem heat transfers\n",
      "Solving stationary heat equation\n",
      "Defining initial values\n",
      "Defining variational problem\n",
      "Defining source terms\n",
      "Defining boundary conditions\n",
      "Solving steady state problem...\n",
      "Solved problem in 0.00 s\n",
      "Defining variational problem heat transfers\n",
      "Solving stationary heat equation\n",
      "Defining initial values\n",
      "Defining variational problem\n",
      "Defining source terms\n",
      "Defining boundary conditions\n",
      "Solving steady state problem...\n",
      "Solved problem in 0.00 s\n",
      "Defining variational problem heat transfers\n",
      "Solving stationary heat equation\n",
      "Defining initial values\n",
      "Defining variational problem\n",
      "Defining source terms\n",
      "Defining boundary conditions\n",
      "Solving steady state problem...\n",
      "Solved problem in 0.00 s\n",
      "Defining variational problem heat transfers\n",
      "Solving stationary heat equation\n",
      "Defining initial values\n",
      "Defining variational problem\n",
      "Defining source terms\n",
      "Defining boundary conditions\n",
      "Solving steady state problem...\n",
      "Solved problem in 0.00 s\n",
      "Defining variational problem heat transfers\n",
      "Solving stationary heat equation\n",
      "Defining initial values\n",
      "Defining variational problem\n",
      "Defining source terms\n",
      "Defining boundary conditions\n",
      "Solving steady state problem...\n",
      "Solved problem in 0.00 s\n",
      "Defining variational problem heat transfers\n",
      "Solving stationary heat equation\n",
      "Defining initial values\n",
      "Defining variational problem\n",
      "Defining source terms\n",
      "Defining boundary conditions\n",
      "Solving steady state problem...\n",
      "Solved problem in 0.00 s\n",
      "Defining variational problem heat transfers\n",
      "Solving stationary heat equation\n",
      "Defining initial values\n",
      "Defining variational problem\n",
      "Defining source terms\n",
      "Defining boundary conditions\n",
      "Solving steady state problem...\n",
      "Solved problem in 0.00 s\n",
      "Defining variational problem heat transfers\n",
      "Solving stationary heat equation\n",
      "Defining initial values\n",
      "Defining variational problem\n",
      "Defining source terms\n",
      "Defining boundary conditions\n",
      "Solving steady state problem...\n",
      "Solved problem in 0.00 s\n",
      "Defining variational problem heat transfers\n",
      "Solving stationary heat equation\n",
      "Defining initial values\n",
      "Defining variational problem\n",
      "Defining source terms\n",
      "Defining boundary conditions\n",
      "Solving steady state problem...\n",
      "Solved problem in 0.00 s\n",
      "Defining variational problem heat transfers\n",
      "Solving stationary heat equation\n",
      "Defining initial values\n",
      "Defining variational problem\n",
      "Defining source terms\n",
      "Defining boundary conditions\n",
      "Solving steady state problem...\n",
      "Solved problem in 0.00 s\n",
      "Defining variational problem heat transfers\n",
      "Solving stationary heat equation\n",
      "Defining initial values\n",
      "Defining variational problem\n",
      "Defining source terms\n",
      "Defining boundary conditions\n",
      "Solving steady state problem...\n",
      "Solved problem in 0.00 s\n"
     ]
    }
   ],
   "source": [
    "k_array = my_simulation(T_array, mesh_fenics)"
   ]
  },
  {
   "cell_type": "code",
   "execution_count": 31,
   "metadata": {},
   "outputs": [
    {
     "data": {
      "text/plain": [
       "Text(0, 0.5, 'Transport Coefficient [m/s]')"
      ]
     },
     "execution_count": 31,
     "metadata": {},
     "output_type": "execute_result"
    },
    {
     "data": {
      "image/png": "[encoded data removed]",
      "text/plain": [
       "<Figure size 640x480 with 1 Axes>"
      ]
     },
     "metadata": {},
     "output_type": "display_data"
    }
   ],
   "source": [
    "plt.plot(T_array, k_array, '-x', linewidth=3)\n",
    "plt.xlabel(\"Temperature [K]\")\n",
    "plt.ylabel(\"Transport Coefficient [m/s]\")"
   ]
  }
 ],
 "metadata": {
  "kernelspec": {
   "display_name": "Python 3.9.12 ('base')",
   "language": "python",
   "name": "python3"
  },
  "language_info": {
   "codemirror_mode": {
    "name": "ipython",
    "version": 3
   },
   "file_extension": ".py",
   "mimetype": "text/x-python",
   "name": "python",
   "nbconvert_exporter": "python",
   "pygments_lexer": "ipython3",
   "version": "3.11.6"
  },
  "orig_nbformat": 4,
  "vscode": {
   "interpreter": {
    "hash": "d4d1e4263499bec80672ea0156c357c1ee493ec2b1c70f0acce89fc37c4a6abe"
   }
  }
 },
 "nbformat": 4,
 "nbformat_minor": 2
}
